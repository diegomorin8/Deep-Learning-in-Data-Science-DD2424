{
 "cells": [
  {
   "cell_type": "markdown",
   "metadata": {},
   "source": [
    "# Course: DD2424 - Assignment 4\n",
    "\n",
    "The main objective of this assignment is to train a RNN to synthesize English text character by character. The training will be done using the text from the book _Harry potter and The Goblet of Fire_ by J.K.Rowling. AdaGrad was used as the main optimizing function. The main steps that were perfomed during the implementation of the current Assignment were: \n",
    "1. __Preparing Data__: Read in the training data, determine the number of unique characters in the text and set up mapping functions - one mapping each character to a unique index and another mapping each index to a character.\n",
    "2. __Back-propagation__: The forward and the backward pass of the backpropagation algorithm for a vanilla RNN to efficiently compute the gradients.\n",
    "3. __AdaGrad updating__ the RNN’s parameters.\n",
    "4. __Synthesizing__ text from the RNN: Given a learnt set of parameters for the RNN, a default initial hidden state h0 and an initial input vector, x0, from which to bootstrap from then you will write a function to generate a sequence of text."
   ]
  },
  {
   "cell_type": "markdown",
   "metadata": {},
   "source": [
    "### 0.1 Read the data\n",
    "\n",
    "The data is obtained from a Text file that include the whole _Harry Potter and the Goblet of Fire_ book. Then, the first step is to read it from the text file: "
   ]
  },
  {
   "cell_type": "code",
   "execution_count": 22,
   "metadata": {
    "collapsed": false
   },
   "outputs": [],
   "source": [
    "# Load the book\n",
    "book_fname = 'data/goblet.txt';\n",
    "book_data = open(book_fname,'r').read();"
   ]
  },
  {
   "cell_type": "markdown",
   "metadata": {},
   "source": [
    "All the characters of the book are now in the vector book_data. Now we need a vector with the unique classes of characters in the book: "
   ]
  },
  {
   "cell_type": "code",
   "execution_count": 29,
   "metadata": {
    "collapsed": false
   },
   "outputs": [
    {
     "name": "stdout",
     "output_type": "stream",
     "text": [
      "['\\t', '\\n', ' ', '!', '\"', \"'\", '(', ')', ',', '-', '.', '/', '0', '1', '2', '3', '4', '6', '7', '9', ':', ';', '?', 'A', 'B', 'C', 'D', 'E', 'F', 'G', 'H', 'I', 'J', 'K', 'L', 'M', 'N', 'O', 'P', 'Q', 'R', 'S', 'T', 'U', 'V', 'W', 'X', 'Y', 'Z', '^', '_', 'a', 'b', 'c', 'd', 'e', 'f', 'g', 'h', 'i', 'j', 'k', 'l', 'm', 'n', 'o', 'p', 'q', 'r', 's', 't', 'u', 'v', 'w', 'x', 'y', 'z', '}', '¢', '¼', 'Ã', 'â', '€']\n"
     ]
    }
   ],
   "source": [
    "book_chars = ''.join(set(book_data))\n",
    "book_chars = list(sorted(book_chars))\n",
    "# Show all the characters\n",
    "print(book_chars,)"
   ]
  },
  {
   "cell_type": "markdown",
   "metadata": {},
   "source": [
    "Now the dimensionality of the output and book size was obtained: "
   ]
  },
  {
   "cell_type": "code",
   "execution_count": 33,
   "metadata": {
    "collapsed": false
   },
   "outputs": [],
   "source": [
    "K = len(book_chars)\n",
    "book_size = len(book_data)"
   ]
  },
  {
   "cell_type": "markdown",
   "metadata": {},
   "source": [
    "To allow you to easily go between a character and its one-hot encoding and\n",
    "in the other direction a map dictionary was defined (one for every direction index to character and viceversa):"
   ]
  },
  {
   "cell_type": "code",
   "execution_count": 59,
   "metadata": {
    "collapsed": false
   },
   "outputs": [],
   "source": [
    "# Mappings from char to ind and vice versa, mapped in a dictionary\n",
    "char_to_ind = { character:index for index, character in enumerate(book_chars)}\n",
    "ind_to_char = { index:character for index,character in enumerate(book_chars)}"
   ]
  },
  {
   "cell_type": "code",
   "execution_count": 58,
   "metadata": {
    "collapsed": false
   },
   "outputs": [
    {
     "name": "stdout",
     "output_type": "stream",
     "text": [
      "52\n"
     ]
    }
   ],
   "source": []
  }
 ],
 "metadata": {
  "kernelspec": {
   "display_name": "Python 3",
   "language": "python",
   "name": "python3"
  },
  "language_info": {
   "codemirror_mode": {
    "name": "ipython",
    "version": 3
   },
   "file_extension": ".py",
   "mimetype": "text/x-python",
   "name": "python",
   "nbconvert_exporter": "python",
   "pygments_lexer": "ipython3",
   "version": "3.6.0"
  }
 },
 "nbformat": 4,
 "nbformat_minor": 2
}
