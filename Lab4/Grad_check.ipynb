{
 "cells": [
  {
   "cell_type": "code",
   "execution_count": 1,
   "metadata": {},
   "outputs": [
    {
     "name": "stdout",
     "output_type": "stream",
     "text": [
      "Checking V gradients . . . \n",
      "Checking W gradients . . . \n",
      "Checking U gradients . . . \n",
      "Checking b gradients . . . \n",
      "Checking c gradients . . . \n"
     ]
    }
   ],
   "source": [
    "import numpy as np\n",
    "import math\n",
    "import Lab4\n",
    "import matplotlib.pyplot as plt\n",
    "from random import uniform\n",
    "\n",
    "\n",
    "error_V,error_W,error_U,error_b,error_c = Lab4.gradient_test()"
   ]
  }
 ],
 "metadata": {
  "kernelspec": {
   "display_name": "Python 2",
   "language": "python",
   "name": "python2"
  },
  "language_info": {
   "codemirror_mode": {
    "name": "ipython",
    "version": 2
   },
   "file_extension": ".py",
   "mimetype": "text/x-python",
   "name": "python",
   "nbconvert_exporter": "python",
   "pygments_lexer": "ipython2",
   "version": "2.7.12"
  }
 },
 "nbformat": 4,
 "nbformat_minor": 2
}
